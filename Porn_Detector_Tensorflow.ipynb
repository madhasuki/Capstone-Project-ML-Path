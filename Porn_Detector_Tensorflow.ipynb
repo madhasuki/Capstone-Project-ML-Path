{
  "nbformat": 4,
  "nbformat_minor": 0,
  "metadata": {
    "colab": {
      "name": "Porn Detector Tensorflow",
      "provenance": [],
      "collapsed_sections": []
    },
    "kernelspec": {
      "name": "python3",
      "display_name": "Python 3"
    },
    "language_info": {
      "name": "python"
    }
  },
  "cells": [
    {
      "cell_type": "markdown",
      "source": [
        "**Download datasets**<br>\n",
        "Download all the datasets from Ramadhan's Google Drive<br>\n",
        "After download the data, we extract them and put them in split them into training and testing"
      ],
      "metadata": {
        "id": "oevcO1mAMzwU"
      }
    },
    {
      "cell_type": "code",
      "source": [
        "#!pip install gdown"
      ],
      "metadata": {
        "id": "slBIfRbsM2xG"
      },
      "execution_count": null,
      "outputs": []
    },
    {
      "cell_type": "code",
      "source": [
        "import gdown\n",
        "import zipfile\n",
        "\n",
        "def extract_dataset(filename):\n",
        "  local_zip = filename\n",
        "  zip_ref = zipfile.ZipFile(local_zip, 'r')\n",
        "  zip_ref.extractall()\n",
        "  \n",
        "  zip_ref.close()\n",
        "\n",
        "def download_data(url, output):\n",
        "  gdown.download(url, output, quiet=False)"
      ],
      "metadata": {
        "id": "gcr2uKR2ume4"
      },
      "execution_count": 2,
      "outputs": []
    },
    {
      "cell_type": "code",
      "source": [
        "# download porn datasets and extract them\n",
        "porn_file = 'porn_datasets.zip'\n",
        "download_data('https://drive.google.com/u/4/uc?id=1q1sb1WKnhZXhxChoonyQEpOoE_X-aTR1', porn_file)\n",
        "extract_dataset(porn_file)\n",
        "\n",
        "# download not porn datasets and extract them\n",
        "not_porn_file = \"not_porn_datasets.zip\"\n",
        "download_data('https://drive.google.com/u/4/uc?id=12xtO-msdJ4adT9-ftp1zbmj5ZW99jups', not_porn_file)\n",
        "extract_dataset(not_porn_file)"
      ],
      "metadata": {
        "id": "rox--VP81Mxe"
      },
      "execution_count": null,
      "outputs": []
    },
    {
      "cell_type": "code",
      "source": [
        "import shutil\n",
        "# because not porn separated into few folder, we put it into one same folder\n",
        "not_porn_folder ='./not_porn'\n",
        "not_porn = os.listdir(not_porn_folder)\n",
        "for folder in not_porn:\n",
        "  sub_folder = os.path.join(not_porn_folder, folder)\n",
        "  for file in folder:\n",
        "    old_path = os.path.join(sub_folder, file)\n",
        "    new_path = os.path.join(not_porn_folder, file)\n",
        "    shutil.move(old_path, new_path)\n",
        "  os.rmdir(sub_folder)"
      ],
      "metadata": {
        "id": "zU1jMVqZBXtl"
      },
      "execution_count": null,
      "outputs": []
    },
    {
      "cell_type": "code",
      "source": [
        "import os\n",
        "\n",
        "base_dir = './datasets'\n",
        "\n",
        "train_dir = os.path.join(base_dir, 'training')\n",
        "testing_dir = os.path.join(base_dir, 'testing')\n",
        "\n",
        "# directory with training porn and not porn picts\n",
        "train_porn_dir = os.path.join(train_dir, 'porn')\n",
        "train_not_porn_dir = os.path.join(train_dir, 'not_porn')\n",
        "\n",
        "# directory with testing porn and not porn picts\n",
        "test_porn_dir = os.path.join(testing_dir, 'porn')\n",
        "test_not_porn_dir = os.path.join(testing_dir, 'not_porn')\n",
        "\n",
        "\n",
        "isExist = os.path.exists(base_dir) #check if directory exist or not\n",
        "\n",
        "if not isExist:\n",
        "  os.makedirs(base_dir) # create datasets directory\n",
        "\n",
        "  os.makedirs(train_dir) #create training directory\n",
        "  os.makedirs(testing_dir) #create testing directory\n",
        "\n",
        "  os.makedirs(train_porn_dir) #create training porn directory\n",
        "  os.makedirs(train_not_porn_dir) #create training not porn directory\n",
        "\n",
        "  os.makedirs(test_porn_dir) #create testing porn directory\n",
        "  os.makedirs(test_not_porn_dir) #create testing not porn directory"
      ],
      "metadata": {
        "id": "OpSUs2-jtm6s"
      },
      "execution_count": 4,
      "outputs": []
    },
    {
      "cell_type": "code",
      "source": [
        "old_porn_dir = './porn'\n",
        "old_not_porn_dir = './not_porn'\n",
        "\n",
        "porn_datasets = os.listdir(old_porn_dir)\n",
        "not_porn_datasets = os.listdir(old_porn_dir)\n",
        "\n",
        "print('total porn images :', len(porn_datasets))\n",
        "print('total not porn images :', len(not_porn_datasets))"
      ],
      "metadata": {
        "id": "gxOf_iz1xgb0",
        "colab": {
          "base_uri": "https://localhost:8080/"
        },
        "outputId": "a87bd4b5-065e-4c55-f582-10d942319f0f"
      },
      "execution_count": 5,
      "outputs": [
        {
          "output_type": "stream",
          "name": "stdout",
          "text": [
            "total porn images : 7750\n",
            "total not porn images : 7750\n"
          ]
        }
      ]
    },
    {
      "cell_type": "code",
      "source": [
        "import shutil\n",
        "# Separate datasets into 5000 picts for training and 2250 for testing\n",
        "for i in range(5000):\n",
        "  old_porn_pict_file = os.path.join(old_porn_dir, porn_datasets[i])\n",
        "  old_not_porn_pict_file = os.path.join(old_not_porn_dir, not_porn_datasets[i])\n",
        "\n",
        "  new_porn_pict_file = os.path.join(train_porn_dir, porn_datasets[i])\n",
        "  new_not_porn_pict_file = os.path.join(train_not_porn_dir, not_porn_datasets[i])\n",
        "\n",
        "  shutil.move(old_porn_pict_file, new_porn_pict_file)\n",
        "  shutil.move(old_not_porn_pict_file, new_not_porn_pict_file)"
      ],
      "metadata": {
        "id": "H0SQqCHB41mY"
      },
      "execution_count": null,
      "outputs": []
    },
    {
      "cell_type": "code",
      "source": [
        "# # remove folders\n",
        "\n",
        "# import os\n",
        "# datasets = './datasets'\n",
        "# old_porn_dir = './porn/'\n",
        "# old_not_porn_dir = './not_porn/'\n",
        "\n",
        "# datasets_dir = os.listdir(datasets)\n",
        "# porn_datasets = os.listdir(old_porn_dir)\n",
        "# not_porn_datasets = os.listdir(old_not_porn_dir)\n",
        "\n",
        "# for i in datasets_dir:\n",
        "#   new_dir = os.path.join(datasets, i)\n",
        "#   for j in os.listdir(new_dir):\n",
        "#     new_dir2 = os.path.join(new_dir, j)\n",
        "#     if len(os.listdir(new_dir2))==0:\n",
        "#       os.rmdir(new_dir2)\n",
        "#   os.rmdir(new_dir)\n",
        "#     # for k in os.listdir(new_dir2):\n",
        "#       # print(k)\n",
        "#     #   os.rmdir(new_dir2)\n",
        "#     # os.rmdir(new_dir)\n",
        "\n",
        "# for i in porn_datasets:\n",
        "#   path_file = os.path.join(old_porn_dir, i)\n",
        "#   if os.path.exists(path_file):\n",
        "#     os.remove(path_file)\n",
        "#   else:\n",
        "#     print(\"The file does not exist\")\n",
        "\n",
        "# for i in not_porn_datasets:\n",
        "#   new_dir = os.path.join(old_not_porn_dir, i)\n",
        "#   if os.path.exists(new_dir):\n",
        "#     for j in new_dir:\n",
        "#       path_file = os.path.join(new_dir, j)\n",
        "#       if os.path.exists(path_file):\n",
        "#         os.remove(path_file)\n",
        "#       else:\n",
        "#         print(\"The folder does not exist\")\n",
        "#     os.rmdir(new_dir)\n",
        "#   else:\n",
        "#     print(\"The folder does not exist\")"
      ],
      "metadata": {
        "id": "nRux72yk7XNP"
      },
      "execution_count": null,
      "outputs": []
    }
  ]
}