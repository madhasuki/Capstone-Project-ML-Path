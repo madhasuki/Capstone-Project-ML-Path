{
  "cells": [
    {
      "cell_type": "markdown",
      "metadata": {
        "id": "oevcO1mAMzwU"
      },
      "source": [
        "**Download datasets**<br>\n",
        "Download all the datasets from Ramadhan's Google Drive<br>\n",
        "After download the data, we extract them and put them in split them into training and testing"
      ]
    },
    {
      "cell_type": "code",
      "execution_count": null,
      "metadata": {
        "id": "slBIfRbsM2xG"
      },
      "outputs": [],
      "source": [
        "#!pip install gdown"
      ]
    },
    {
      "cell_type": "code",
      "execution_count": 1,
      "metadata": {
        "id": "gcr2uKR2ume4"
      },
      "outputs": [],
      "source": [
        "import gdown\n",
        "import zipfile\n",
        "import os\n",
        "\n",
        "def extract_dataset(filename):\n",
        "  local_zip = filename\n",
        "  zip_ref = zipfile.ZipFile(local_zip, 'r')\n",
        "  zip_ref.extractall()\n",
        "  \n",
        "  zip_ref.close()\n",
        "  os.remove(filename)\n",
        "\n",
        "def download_data(url, output):\n",
        "  gdown.download(url, output, quiet=False)"
      ]
    },
    {
      "cell_type": "code",
      "execution_count": 2,
      "metadata": {
        "colab": {
          "base_uri": "https://localhost:8080/"
        },
        "id": "rox--VP81Mxe",
        "outputId": "4e5f4600-e40e-4df6-c12a-6171a0407f31"
      },
      "outputs": [
        {
          "output_type": "stream",
          "name": "stderr",
          "text": [
            "Downloading...\n",
            "From: https://drive.google.com/u/4/uc?id=1q1sb1WKnhZXhxChoonyQEpOoE_X-aTR1\n",
            "To: /content/porn_datasets.zip\n",
            "100%|██████████| 99.3M/99.3M [00:00<00:00, 322MB/s]\n",
            "Downloading...\n",
            "From: https://drive.google.com/u/4/uc?id=12xtO-msdJ4adT9-ftp1zbmj5ZW99jups\n",
            "To: /content/not_porn_datasets.zip\n",
            "100%|██████████| 126M/126M [00:00<00:00, 140MB/s]\n"
          ]
        }
      ],
      "source": [
        "# download porn datasets and extract them, after that we remove zip file\n",
        "\n",
        "porn_file = 'porn_datasets.zip'\n",
        "download_data('https://drive.google.com/u/4/uc?id=1q1sb1WKnhZXhxChoonyQEpOoE_X-aTR1', porn_file)\n",
        "extract_dataset(porn_file)\n",
        "\n",
        "# download not porn datasets and extract them\n",
        "not_porn_file = \"not_porn_datasets.zip\"\n",
        "download_data('https://drive.google.com/u/4/uc?id=12xtO-msdJ4adT9-ftp1zbmj5ZW99jups', not_porn_file)\n",
        "extract_dataset(not_porn_file)"
      ]
    },
    {
      "cell_type": "code",
      "execution_count": 3,
      "metadata": {
        "id": "zU1jMVqZBXtl"
      },
      "outputs": [],
      "source": [
        "import shutil\n",
        "import os\n",
        "# because not porn separated into few folder, we put it into one same folder\n",
        "not_porn_folder ='./not_porn'\n",
        "not_porn = os.listdir(not_porn_folder)\n",
        "for folder in not_porn:\n",
        "  sub_folder = os.path.join(not_porn_folder, folder)\n",
        "  sub_folder_path = os.listdir(sub_folder)\n",
        "  for file in sub_folder_path:\n",
        "    # print(file)\n",
        "    old_path = os.path.join(sub_folder, file)\n",
        "    new_path = os.path.join(not_porn_folder, file)\n",
        "    shutil.move(old_path, new_path)\n",
        "  os.rmdir(sub_folder)"
      ]
    },
    {
      "cell_type": "code",
      "execution_count": 4,
      "metadata": {
        "id": "OpSUs2-jtm6s"
      },
      "outputs": [],
      "source": [
        "base_dir = './datasets'\n",
        "\n",
        "train_dir = os.path.join(base_dir, 'training')\n",
        "testing_dir = os.path.join(base_dir, 'testing')\n",
        "\n",
        "# directory with training porn and not porn picts\n",
        "train_porn_dir = os.path.join(train_dir, 'porn')\n",
        "train_not_porn_dir = os.path.join(train_dir, 'not_porn')\n",
        "\n",
        "# directory with testing porn and not porn picts\n",
        "test_porn_dir = os.path.join(testing_dir, 'porn')\n",
        "test_not_porn_dir = os.path.join(testing_dir, 'not_porn')\n",
        "\n",
        "\n",
        "isExist = os.path.exists(base_dir) #check if directory exist or not\n",
        "\n",
        "if not isExist:\n",
        "  os.makedirs(base_dir) # create datasets directory\n",
        "\n",
        "  os.makedirs(train_dir) #create training directory\n",
        "  os.makedirs(testing_dir) #create testing directory\n",
        "\n",
        "  os.makedirs(train_porn_dir) #create training porn directory\n",
        "  os.makedirs(train_not_porn_dir) #create training not porn directory\n",
        "\n",
        "  os.makedirs(test_porn_dir) #create testing porn directory\n",
        "  os.makedirs(test_not_porn_dir) #create testing not porn directory"
      ]
    },
    {
      "cell_type": "code",
      "execution_count": 5,
      "metadata": {
        "colab": {
          "base_uri": "https://localhost:8080/"
        },
        "id": "gxOf_iz1xgb0",
        "outputId": "4a697508-23a1-494b-8a99-e18a83edee23"
      },
      "outputs": [
        {
          "output_type": "stream",
          "name": "stdout",
          "text": [
            "total porn images : 7750\n",
            "total not porn images : 7749\n"
          ]
        }
      ],
      "source": [
        "porn_dir = './porn'\n",
        "not_porn_dir = './not_porn'\n",
        "\n",
        "porn_datasets = os.listdir(porn_dir)\n",
        "not_porn_datasets = os.listdir(not_porn_dir)\n",
        "\n",
        "print('total porn images :', len(porn_datasets))\n",
        "print('total not porn images :', len(not_porn_datasets))"
      ]
    },
    {
      "cell_type": "code",
      "execution_count": null,
      "metadata": {
        "id": "H0SQqCHB41mY"
      },
      "outputs": [],
      "source": [
        "# def move_to_train(dataset, old_dir, train_dir):\n",
        "#   for i in range(5000):\n",
        "#     data = dataset[i]\n",
        "#     old_data_path = os.path.join(old_dir, data)\n",
        "#     new_data_path = os.path.join(train_dir, data)\n",
        "#     isExist = os.path.exists(old_data_path)\n",
        "#     if isExist:\n",
        "#       shutil.move(old_data_path, new_data_path)"
      ]
    },
    {
      "cell_type": "code",
      "execution_count": 6,
      "metadata": {
        "id": "wMzMwmf9dZbT"
      },
      "outputs": [],
      "source": [
        "def split_data(dataset, old_dir, train_dir, test_dir):\n",
        "  train_data = dataset[:5000]\n",
        "  test_data = dataset[5000:]\n",
        "\n",
        "  move_data(train_data, old_dir, train_dir)\n",
        "  move_data(test_data, old_dir, test_dir)\n",
        "\n",
        "\n",
        "def move_data(data, old_dir, new_dir):\n",
        "  for dt in data:\n",
        "    old_data_path = os.path.join(old_dir, dt)\n",
        "    new_data_path = os.path.join(new_dir, dt)\n",
        "\n",
        "    isExist = os.path.exists(old_data_path)\n",
        "    if isExist:\n",
        "      shutil.move(old_data_path, new_data_path)"
      ]
    },
    {
      "cell_type": "code",
      "execution_count": 7,
      "metadata": {
        "id": "OKinJjvVxmCF"
      },
      "outputs": [],
      "source": [
        "# move porn file into training set\n",
        "split_data(porn_datasets, porn_dir, train_porn_dir, test_porn_dir)\n",
        "\n",
        "# move not porn file into training set\n",
        "split_data(not_porn_datasets, not_porn_dir, train_not_porn_dir, test_not_porn_dir)"
      ]
    },
    {
      "cell_type": "code",
      "source": [
        "train_porn_sets = os.listdir(train_porn_dir)\n",
        "test_porn_sets = os.listdir(test_porn_dir)\n",
        "\n",
        "train_not_porn_sets = os.listdir(train_not_porn_dir)\n",
        "test_not_porn_sets = os.listdir(test_not_porn_dir)\n",
        "\n",
        "print('total train porn images :', len(train_porn_sets))\n",
        "print('total test porn images :', len(test_porn_sets))\n",
        "\n",
        "print('\\ntotal train not porn images :', len(train_not_porn_sets))\n",
        "print('total test not porn images :', len(test_not_porn_sets))"
      ],
      "metadata": {
        "colab": {
          "base_uri": "https://localhost:8080/"
        },
        "id": "YOR6CZLik7Uu",
        "outputId": "7b0c5ad3-d92e-40d2-96c7-c86e6bc2fa84"
      },
      "execution_count": 8,
      "outputs": [
        {
          "output_type": "stream",
          "name": "stdout",
          "text": [
            "total train porn images : 5000\n",
            "total test porn images : 2750\n",
            "\n",
            "total train not porn images : 5000\n",
            "total test not porn images : 2749\n"
          ]
        }
      ]
    },
    {
      "cell_type": "code",
      "execution_count": 9,
      "metadata": {
        "id": "kaFsnGC5zZwU"
      },
      "outputs": [],
      "source": [
        "# Removing Folders\n",
        "\n",
        "import os\n",
        "\n",
        "def remove_folder(base_dir):\n",
        "  # create an array containing the contents of the folder\n",
        "  isi_dir = os.listdir(base_dir)\n",
        "\n",
        "  # if base_dir is not empty, then we will delete the contents first\n",
        "  if len(isi_dir)!=0:\n",
        "    # check every single content in the base_dir\n",
        "    for isi in isi_dir:\n",
        "      full_path = os.path.join(base_dir, isi)\n",
        "      # if the content is a directory, then we will remove files from the inside of this content\n",
        "      if os.path.isdir(full_path):\n",
        "        isi_path = os.listdir(full_path)\n",
        "        for file in isi_path:\n",
        "          file_path = os.path.join(full_path, file)\n",
        "          if os.path.isdir(file_path):\n",
        "            picts = os.listdir(file_path)\n",
        "            for pict in picts:\n",
        "              pic = os.path.join(file_path, pict)\n",
        "              os.remove(pic)\n",
        "            os.rmdir(file_path)\n",
        "          else:\n",
        "            os.remove(file_path)\n",
        "        os.rmdir(full_path)\n",
        "      else:\n",
        "        os.remove(full_path)\n",
        "    os.rmdir(base_dir)\n",
        "  else:\n",
        "    os.rmdir(base_dir)\n",
        "\n",
        "remove_folder('./porn')\n",
        "remove_folder('./not_porn')\n",
        "remove_folder('./datasets')"
      ]
    }
  ],
  "metadata": {
    "colab": {
      "collapsed_sections": [],
      "name": "Porn Detector Tensorflow",
      "provenance": []
    },
    "kernelspec": {
      "display_name": "Python 3",
      "name": "python3"
    },
    "language_info": {
      "name": "python"
    }
  },
  "nbformat": 4,
  "nbformat_minor": 0
}