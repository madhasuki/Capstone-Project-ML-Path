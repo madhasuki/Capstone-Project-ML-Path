{
  "nbformat": 4,
  "nbformat_minor": 0,
  "metadata": {
    "colab": {
      "name": "Porn Detector Tensorflow",
      "provenance": [],
      "collapsed_sections": []
    },
    "kernelspec": {
      "name": "python3",
      "display_name": "Python 3"
    },
    "language_info": {
      "name": "python"
    }
  },
  "cells": [
    {
      "cell_type": "markdown",
      "source": [
        "**Download datasets**<br>\n",
        "Download all the datasets from Ramadhan's Google Drive<br>\n",
        "After download the data, we extract them and put them in split them into training and testing"
      ],
      "metadata": {
        "id": "oevcO1mAMzwU"
      }
    },
    {
      "cell_type": "code",
      "source": [
        "#!pip install gdown"
      ],
      "metadata": {
        "id": "slBIfRbsM2xG"
      },
      "execution_count": null,
      "outputs": []
    },
    {
      "cell_type": "code",
      "source": [
        "import gdown\n",
        "import zipfile\n",
        "import os\n",
        "\n",
        "def extract_dataset(filename):\n",
        "  local_zip = filename\n",
        "  zip_ref = zipfile.ZipFile(local_zip, 'r')\n",
        "  zip_ref.extractall()\n",
        "  \n",
        "  zip_ref.close()\n",
        "  os.remove(filename)\n",
        "\n",
        "def download_data(url, output):\n",
        "  gdown.download(url, output, quiet=False)"
      ],
      "metadata": {
        "id": "gcr2uKR2ume4"
      },
      "execution_count": 2,
      "outputs": []
    },
    {
      "cell_type": "code",
      "source": [
        "# download porn datasets and extract them, after that we remove zip file\n",
        "\n",
        "porn_file = 'porn_datasets.zip'\n",
        "download_data('https://drive.google.com/u/4/uc?id=1q1sb1WKnhZXhxChoonyQEpOoE_X-aTR1', porn_file)\n",
        "extract_dataset(porn_file)\n",
        "\n",
        "# download not porn datasets and extract them\n",
        "not_porn_file = \"not_porn_datasets.zip\"\n",
        "download_data('https://drive.google.com/u/4/uc?id=12xtO-msdJ4adT9-ftp1zbmj5ZW99jups', not_porn_file)\n",
        "extract_dataset(not_porn_file)"
      ],
      "metadata": {
        "id": "rox--VP81Mxe",
        "colab": {
          "base_uri": "https://localhost:8080/"
        },
        "outputId": "c4b145a7-c22c-486b-8d00-2af66c771dd7"
      },
      "execution_count": 3,
      "outputs": [
        {
          "output_type": "stream",
          "name": "stderr",
          "text": [
            "Downloading...\n",
            "From: https://drive.google.com/u/4/uc?id=1q1sb1WKnhZXhxChoonyQEpOoE_X-aTR1\n",
            "To: /content/porn_datasets.zip\n",
            "100%|██████████| 99.3M/99.3M [00:00<00:00, 282MB/s]\n",
            "Downloading...\n",
            "From: https://drive.google.com/u/4/uc?id=12xtO-msdJ4adT9-ftp1zbmj5ZW99jups\n",
            "To: /content/not_porn_datasets.zip\n",
            "100%|██████████| 126M/126M [00:00<00:00, 229MB/s]\n"
          ]
        }
      ]
    },
    {
      "cell_type": "code",
      "source": [
        "import shutil\n",
        "import os\n",
        "# because not porn separated into few folder, we put it into one same folder\n",
        "not_porn_folder ='./not_porn'\n",
        "not_porn = os.listdir(not_porn_folder)\n",
        "for folder in not_porn:\n",
        "  sub_folder = os.path.join(not_porn_folder, folder)\n",
        "  sub_folder_path = os.listdir(sub_folder)\n",
        "  for file in sub_folder_path:\n",
        "    # print(file)\n",
        "    old_path = os.path.join(sub_folder, file)\n",
        "    new_path = os.path.join(not_porn_folder, file)\n",
        "    shutil.move(old_path, new_path)\n",
        "  os.rmdir(sub_folder)"
      ],
      "metadata": {
        "id": "zU1jMVqZBXtl"
      },
      "execution_count": 4,
      "outputs": []
    },
    {
      "cell_type": "code",
      "source": [
        "base_dir = './datasets'\n",
        "\n",
        "train_dir = os.path.join(base_dir, 'training')\n",
        "testing_dir = os.path.join(base_dir, 'testing')\n",
        "\n",
        "# directory with training porn and not porn picts\n",
        "train_porn_dir = os.path.join(train_dir, 'porn')\n",
        "train_not_porn_dir = os.path.join(train_dir, 'not_porn')\n",
        "\n",
        "# directory with testing porn and not porn picts\n",
        "test_porn_dir = os.path.join(testing_dir, 'porn')\n",
        "test_not_porn_dir = os.path.join(testing_dir, 'not_porn')\n",
        "\n",
        "\n",
        "isExist = os.path.exists(base_dir) #check if directory exist or not\n",
        "\n",
        "if not isExist:\n",
        "  os.makedirs(base_dir) # create datasets directory\n",
        "\n",
        "  os.makedirs(train_dir) #create training directory\n",
        "  os.makedirs(testing_dir) #create testing directory\n",
        "\n",
        "  os.makedirs(train_porn_dir) #create training porn directory\n",
        "  os.makedirs(train_not_porn_dir) #create training not porn directory\n",
        "\n",
        "  os.makedirs(test_porn_dir) #create testing porn directory\n",
        "  os.makedirs(test_not_porn_dir) #create testing not porn directory"
      ],
      "metadata": {
        "id": "OpSUs2-jtm6s"
      },
      "execution_count": 5,
      "outputs": []
    },
    {
      "cell_type": "code",
      "source": [
        "porn_dir = './porn'\n",
        "not_porn_dir = './not_porn'\n",
        "\n",
        "porn_datasets = os.listdir(porn_dir)\n",
        "not_porn_datasets = os.listdir(porn_dir)\n",
        "\n",
        "print('total porn images :', len(porn_datasets))\n",
        "print('total not porn images :', len(not_porn_datasets))"
      ],
      "metadata": {
        "id": "gxOf_iz1xgb0",
        "colab": {
          "base_uri": "https://localhost:8080/"
        },
        "outputId": "127ce668-df38-41ad-be9c-b96e366a0806"
      },
      "execution_count": 20,
      "outputs": [
        {
          "output_type": "stream",
          "name": "stdout",
          "text": [
            "total porn images : 2750\n",
            "total not porn images : 2750\n"
          ]
        }
      ]
    },
    {
      "cell_type": "code",
      "source": [
        "def move_to_train(dataset, old_dir, train_dir):\n",
        "  for i in range(5000):\n",
        "    data = dataset[i]\n",
        "    old_data_path = os.path.join(old_dir, data)\n",
        "    new_data_path = os.path.join(train_dir, data)\n",
        "    isExist = os.path.exists(old_data_path)\n",
        "    if isExist:\n",
        "      shutil.move(old_data_path, new_data_path)"
      ],
      "metadata": {
        "id": "H0SQqCHB41mY"
      },
      "execution_count": 16,
      "outputs": []
    },
    {
      "cell_type": "code",
      "source": [
        "# move porn file into training set\n",
        "move_to_train(porn_datasets, porn_dir, train_porn_dir)\n",
        "\n",
        "# move not porn file into training set\n",
        "move_to_train(not_porn_datasets, not_porn_dir, train_not_porn_dir)"
      ],
      "metadata": {
        "id": "OKinJjvVxmCF"
      },
      "execution_count": 19,
      "outputs": []
    },
    {
      "cell_type": "code",
      "source": [
        "# # remove folders\n",
        "\n",
        "# import os\n",
        "# datasets = './datasets'\n",
        "# old_porn_dir = './porn/'\n",
        "# old_not_porn_dir = './not_porn/'\n",
        "\n",
        "# datasets_dir = os.listdir(datasets)\n",
        "# porn_datasets = os.listdir(old_porn_dir)\n",
        "# not_porn_datasets = os.listdir(old_not_porn_dir)\n",
        "\n",
        "# for i in datasets_dir:\n",
        "#   new_dir = os.path.join(datasets, i)\n",
        "#   for j in os.listdir(new_dir):\n",
        "#     new_dir2 = os.path.join(new_dir, j)\n",
        "#     if len(os.listdir(new_dir2))==0:\n",
        "#       os.rmdir(new_dir2)\n",
        "#   os.rmdir(new_dir)\n",
        "#     # for k in os.listdir(new_dir2):\n",
        "#       # print(k)\n",
        "#     #   os.rmdir(new_dir2)\n",
        "#     # os.rmdir(new_dir)\n",
        "\n",
        "# for i in porn_datasets:\n",
        "#   path_file = os.path.join(old_porn_dir, i)\n",
        "#   if os.path.exists(path_file):\n",
        "#     os.remove(path_file)\n",
        "#   else:\n",
        "#     print(\"The file does not exist\")\n",
        "\n",
        "# for i in not_porn_datasets:\n",
        "#   new_dir = os.path.join(old_not_porn_dir, i)\n",
        "#   if os.path.exists(new_dir):\n",
        "#     for j in new_dir:\n",
        "#       path_file = os.path.join(new_dir, j)\n",
        "#       print(path_file, \"asdf\")\n",
        "#       if os.path.exists(path_file):\n",
        "#         os.remove(path_file)\n",
        "#       else:\n",
        "#         print(\"The folder does not exist\")\n",
        "#     os.rmdir(new_dir)\n",
        "#   else:\n",
        "#     print(\"The folder does not exist\")"
      ],
      "metadata": {
        "id": "nRux72yk7XNP",
        "colab": {
          "base_uri": "https://localhost:8080/",
          "height": 287
        },
        "outputId": "2901a7af-40a4-4157-b812-e685a86bef21"
      },
      "execution_count": 29,
      "outputs": [
        {
          "output_type": "stream",
          "name": "stdout",
          "text": [
            "./not_porn/290._10db46a1ded2b944a9dbf117f2195390.jpg/. asdf\n",
            "The folder does not exist\n",
            "/ asdf\n"
          ]
        },
        {
          "output_type": "error",
          "ename": "IsADirectoryError",
          "evalue": "ignored",
          "traceback": [
            "\u001b[0;31m---------------------------------------------------------------------------\u001b[0m",
            "\u001b[0;31mIsADirectoryError\u001b[0m                         Traceback (most recent call last)",
            "\u001b[0;32m<ipython-input-29-24d0c9511cb3>\u001b[0m in \u001b[0;36m<module>\u001b[0;34m()\u001b[0m\n\u001b[1;32m     36\u001b[0m       \u001b[0mprint\u001b[0m\u001b[0;34m(\u001b[0m\u001b[0mpath_file\u001b[0m\u001b[0;34m,\u001b[0m \u001b[0;34m\"asdf\"\u001b[0m\u001b[0;34m)\u001b[0m\u001b[0;34m\u001b[0m\u001b[0;34m\u001b[0m\u001b[0m\n\u001b[1;32m     37\u001b[0m       \u001b[0;32mif\u001b[0m \u001b[0mos\u001b[0m\u001b[0;34m.\u001b[0m\u001b[0mpath\u001b[0m\u001b[0;34m.\u001b[0m\u001b[0mexists\u001b[0m\u001b[0;34m(\u001b[0m\u001b[0mpath_file\u001b[0m\u001b[0;34m)\u001b[0m\u001b[0;34m:\u001b[0m\u001b[0;34m\u001b[0m\u001b[0;34m\u001b[0m\u001b[0m\n\u001b[0;32m---> 38\u001b[0;31m         \u001b[0mos\u001b[0m\u001b[0;34m.\u001b[0m\u001b[0mremove\u001b[0m\u001b[0;34m(\u001b[0m\u001b[0mpath_file\u001b[0m\u001b[0;34m)\u001b[0m\u001b[0;34m\u001b[0m\u001b[0;34m\u001b[0m\u001b[0m\n\u001b[0m\u001b[1;32m     39\u001b[0m       \u001b[0;32melse\u001b[0m\u001b[0;34m:\u001b[0m\u001b[0;34m\u001b[0m\u001b[0;34m\u001b[0m\u001b[0m\n\u001b[1;32m     40\u001b[0m         \u001b[0mprint\u001b[0m\u001b[0;34m(\u001b[0m\u001b[0;34m\"The folder does not exist\"\u001b[0m\u001b[0;34m)\u001b[0m\u001b[0;34m\u001b[0m\u001b[0;34m\u001b[0m\u001b[0m\n",
            "\u001b[0;31mIsADirectoryError\u001b[0m: [Errno 21] Is a directory: '/'"
          ]
        }
      ]
    },
    {
      "cell_type": "code",
      "source": [
        "import os\n",
        "\n",
        "# base directory\n",
        "base_dir = \"./not_porn\" \n",
        "\n",
        "# create an array containing the contents of the folder\n",
        "isi_dir = os.listdir(base_dir)\n",
        "\n",
        "# if base_dir is not empty, then we will delete the contents first\n",
        "if len(isi_dir)!=0:\n",
        "  # check every single content in the base_dir\n",
        "  for isi in isi_dir:\n",
        "    full_path = os.path.join(base_dir, isi)\n",
        "    # if the content is a directory, then we will remove files from the inside of this content\n",
        "    if os.path.isdir(full_path):\n",
        "      isi_path = os.listdir(full_path)\n",
        "      for file in isi_path:\n",
        "        file_path = os.path.join(isi_path, file)\n",
        "        os.remove(full_path)\n",
        "      os.rmdir(isi_path)\n",
        "    else:\n",
        "      # if the content is a file, then we just need to remove it\n",
        "      os.remove(full_path)\n",
        "os.rmdir(base_dir)"
      ],
      "metadata": {
        "id": "kaFsnGC5zZwU"
      },
      "execution_count": 32,
      "outputs": []
    }
  ]
}